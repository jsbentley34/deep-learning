{
 "cells": [
  {
   "cell_type": "code",
   "execution_count": 3,
   "metadata": {},
   "outputs": [],
   "source": [
    "import numpy as np"
   ]
  },
  {
   "cell_type": "code",
   "execution_count": 30,
   "metadata": {},
   "outputs": [],
   "source": [
    "def sigmoid(x):\n",
    "    return 1/(1+np.exp(-x))\n",
    "def sigmoid_prime(x):\n",
    "    return sigmoid(x) * (1 - sigmoid(x))\n",
    "x = np.arange(1,5)\n",
    "y = np.array(0.5)\n",
    "w = np.random.randn(len(x))\n",
    "learnrate = 0.5\n",
    "h = x[0]*weights[0] + x[1]*weights[1]\n",
    "nn_output = sigmoid(h)\n",
    "error = y - nn_output\n",
    "output_grad = sigmoid_prime(h)\n",
    "error_term = error * output_grad\n",
    "del_w = [ learnrate * error_term * x[0],\n",
    "          learnrate * error_term * x[1],\n",
    "        learn_rate*error_term*x[2],\n",
    "        learn_rate*error_term*x[3]]"
   ]
  },
  {
   "cell_type": "code",
   "execution_count": 32,
   "metadata": {},
   "outputs": [],
   "source": [
    "def sigmoid(z):\n",
    "    return 1/(1+np.exp(-z))\n",
    "def sigmooid_derivative(z):\n",
    "    return sigmoid(z) * (1-sigmoid(z))\n",
    "x = np.arange(1,5)\n",
    "y = np.array(0.5)\n",
    "w = np.random.randn(len(x))\n",
    "z = x[0]*w[0] + x[1]*w[1] + x[2]*w[2] + x[3]*w[3]\n",
    "a = sigmoid(z)\n",
    "error = y - a \n",
    "output_grad = sigmoid_derivative(z)\n",
    "error_term - error * output_grad\n",
    "learn_rate = 0.5\n",
    "del_w = learn_rate * error_term * x"
   ]
  },
  {
   "cell_type": "code",
   "execution_count": 33,
   "metadata": {},
   "outputs": [
    {
     "name": "stdout",
     "output_type": "stream",
     "text": [
      "X:  [1 2 3 4]\n",
      "W:  [-0.150619   -1.13190625 -0.48490907 -0.3810692 ]\n",
      "Network output:  0.004525752083310997\n",
      "Gradient:  [-0.00616737 -0.01233474 -0.01850211 -0.02466948]\n"
     ]
    }
   ],
   "source": [
    "print(\"X: \",x)\n",
    "print(\"W: \",w)\n",
    "print(\"Network output: \", sigmoid(z))\n",
    "print(\"Gradient: \", del_w)"
   ]
  },
  {
   "cell_type": "code",
   "execution_count": null,
   "metadata": {},
   "outputs": [],
   "source": []
  }
 ],
 "metadata": {
  "kernelspec": {
   "display_name": "Python 3",
   "language": "python",
   "name": "python3"
  },
  "language_info": {
   "codemirror_mode": {
    "name": "ipython",
    "version": 3
   },
   "file_extension": ".py",
   "mimetype": "text/x-python",
   "name": "python",
   "nbconvert_exporter": "python",
   "pygments_lexer": "ipython3",
   "version": "3.7.2"
  }
 },
 "nbformat": 4,
 "nbformat_minor": 2
}
